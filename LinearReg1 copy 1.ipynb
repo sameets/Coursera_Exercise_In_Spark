{
    "nbformat_minor": 1, 
    "cells": [
        {
            "execution_count": null, 
            "cell_type": "code", 
            "metadata": {
                "collapsed": true
            }, 
            "outputs": [], 
            "source": "%AddDeps co.theasi plotly_2.11 0.2.0 \nimport co.theasi.plotly._\nimport util.Random\n/*\n%AddDeps org.plotly-scala plotly-core_2.11 0.3.2\n%AddDeps org.plotly-scala plotly-render_2.11 0.3.2\n%AddDeps org.plotly-scala plotly-jupyter-scala_2.11 0.3.2\nimport plotly._\nimport plotly.element._\nimport plotly.layout._\nimport plotly.JupyterScala._\nimport util.Random\n\nplotly.JupyterScala.init()\nval (x, y) = Seq(\n  \"Banana\" -> 10,\n  \"Apple\" -> 8,\n  \"Grapefruit\" -> 5\n).unzip\n\nBar(x, y).plot()\n*/\n// Generate uniformly distributed x\nval xs = (0 until 100)\n\n// Generate random y\nval ys = (0 until 100).map { i => i + 5.0 * Random.nextDouble }\n\n\n"
        }, 
        {
            "execution_count": null, 
            "cell_type": "code", 
            "metadata": {
                "collapsed": true
            }, 
            "outputs": [], 
            "source": ""
        }, 
        {
            "execution_count": null, 
            "cell_type": "code", 
            "metadata": {
                "collapsed": true
            }, 
            "outputs": [], 
            "source": "val p = Plot().withScatter(xs, ys)"
        }, 
        {
            "execution_count": null, 
            "cell_type": "code", 
            "metadata": {
                "collapsed": true
            }, 
            "outputs": [], 
            "source": "draw(p, \"my-first-plot\")"
        }, 
        {
            "execution_count": null, 
            "cell_type": "code", 
            "metadata": {
                "collapsed": true
            }, 
            "outputs": [], 
            "source": "%AddDeps org.vegas-viz vegas_2.11 0.3.6"
        }, 
        {
            "execution_count": null, 
            "cell_type": "code", 
            "metadata": {
                "collapsed": true
            }, 
            "outputs": [], 
            "source": "%AddDeps io.circe circe-core_2.11 0.4.1\n%AddDeps io.circe circe-generic_2.11 0.8.0\n%AddDeps io.circe circe-parser_2.11 0.8.0\n%AddDeps io.circe circe-core_sjs0.6_2.11 0.8.0\n%AddDeps io.circe circe-core_sjs0.6_2.11 0.8.0\n\n"
        }, 
        {
            "execution_count": null, 
            "cell_type": "code", 
            "metadata": {
                "collapsed": true
            }, 
            "outputs": [], 
            "source": "\n//%AddDeps io.circe circe-generic_2.11 0.8.0\n//%AddDeps io.circe circe-parser_2.11 0.8.0\n\n//implicit val render = vegas.render.ShowHTML(publish(_))\n\nimport vegas._\n//import vegas.render.WindowRenderer._\nimport vegas.render.HTMLRenderer._\n//import vegas.data.External._\n//import vegas.sparkExt._\n//implicit val renderer = vegas.render.ShowHTML(str => println(s\"The HTML is $str\"))\n//implicit val displayer: String => Unit = {s=> print(\"%html \" +s)}\nimplicit val displayer : String => Unit = { s =>\n  import org.refptr.iscala.display._\n  implicit val rawHtml : HTMLDisplay[String] = HTMLDisplay( (t : String) => t)\n  display_html(s)\n}\n\nval plot = Vegas(\"Country Pop\").\n  withData(\n    Seq(\n      Map(\"country\" -> \"USA\", \"population\" -> 314),\n      Map(\"country\" -> \"UK\", \"population\" -> 64),\n      Map(\"country\" -> \"DK\", \"population\" -> 80)\n    )\n  ).\n  encodeX(\"country\", Nom).\n  encodeY(\"population\", Quant).\n  mark(Bar)"
        }, 
        {
            "execution_count": null, 
            "cell_type": "code", 
            "metadata": {
                "collapsed": true
            }, 
            "outputs": [], 
            "source": "plot"
        }, 
        {
            "execution_count": null, 
            "cell_type": "code", 
            "metadata": {
                "collapsed": true
            }, 
            "outputs": [], 
            "source": "def renderHTML = {\n  //println(plot.html.pageHTML) // a complete HTML page containing the plot\n  println(plot.html.frameHTML(\"foo\")) // an iframe containing the plot\n}"
        }, 
        {
            "execution_count": null, 
            "cell_type": "code", 
            "metadata": {
                "collapsed": true
            }, 
            "outputs": [], 
            "source": ""
        }
    ], 
    "metadata": {
        "kernelspec": {
            "display_name": "Scala 2.11 with Spark 2.1", 
            "name": "scala-spark21", 
            "language": "scala"
        }, 
        "language_info": {
            "mimetype": "text/x-scala", 
            "version": "2.11.8", 
            "name": "scala", 
            "pygments_lexer": "scala", 
            "file_extension": ".scala", 
            "codemirror_mode": "text/x-scala"
        }
    }, 
    "nbformat": 4
}